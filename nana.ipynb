{
  "nbformat": 4,
  "nbformat_minor": 0,
  "metadata": {
    "colab": {
      "name": "nana.ipynb",
      "version": "0.3.2",
      "provenance": [],
      "include_colab_link": true
    },
    "kernelspec": {
      "name": "python3",
      "display_name": "Python 3"
    }
  },
  "cells": [
    {
      "cell_type": "markdown",
      "metadata": {
        "id": "view-in-github",
        "colab_type": "text"
      },
      "source": [
        "<a href=\"https://colab.research.google.com/github/naruminho/rainmodel/blob/master/nana.ipynb\" target=\"_parent\"><img src=\"https://colab.research.google.com/assets/colab-badge.svg\" alt=\"Open In Colab\"/></a>"
      ]
    },
    {
      "metadata": {
        "id": "rSbURvIcR7iA",
        "colab_type": "text"
      },
      "cell_type": "markdown",
      "source": [
        "# Conteúdo\n",
        "\n",
        "1. [Método de PULS](#puls) \n",
        "2. [Montando o google drive](#drive)\n",
        "3. [Settings](#settings)"
      ]
    },
    {
      "metadata": {
        "id": "_vtWUHvpKJRg",
        "colab_type": "text"
      },
      "cell_type": "markdown",
      "source": [
        "# 1. Método de PULS <a id=\"puls\"></a>\n",
        " \n",
        " Vamos simular a propagação com três equações:\n",
        " \n",
        " Continuidade: \n",
        " $\\frac{dS}{dt}=I-Q$\n",
        " \n",
        " $Q_{t+1}+\\frac{2S_{t+1}}{\\Delta t} = I_t - I_{t+1} - Q_t + \\frac{2S_{t}}{\\Delta t}$\n",
        "\n",
        "Função de armazenamento: $S=F(Q)$\n",
        "\n",
        "Equação do controle hidráulico: $Q=F(H)$"
      ]
    },
    {
      "metadata": {
        "id": "mVRuo39mT1oQ",
        "colab_type": "code",
        "colab": {}
      },
      "cell_type": "code",
      "source": [
        ""
      ],
      "execution_count": 0,
      "outputs": []
    },
    {
      "metadata": {
        "id": "2cxWDjWvXJGO",
        "colab_type": "text"
      },
      "cell_type": "markdown",
      "source": [
        "#2. Montando o google drive <a id=\"drive\"></a>\n",
        "1. Executar a célula com o código from..\n",
        "2. Entrar no link\n",
        "3. Copiar o código\n",
        "4. Colar no campo\n",
        "5. Dar `ENTER`"
      ]
    },
    {
      "metadata": {
        "id": "zGMFfxKsWAoL",
        "colab_type": "code",
        "outputId": "5c2a5dae-3423-4125-cc92-37b68909d281",
        "colab": {
          "base_uri": "https://localhost:8080/",
          "height": 122
        }
      },
      "cell_type": "code",
      "source": [
        "from google.colab import drive\n",
        "drive.mount('/content/gdrive')"
      ],
      "execution_count": 0,
      "outputs": [
        {
          "output_type": "stream",
          "text": [
            "Go to this URL in a browser: https://accounts.google.com/o/oauth2/auth?client_id=947318989803-6bn6qk8qdgf4n4g3pfee6491hc0brc4i.apps.googleusercontent.com&redirect_uri=urn%3Aietf%3Awg%3Aoauth%3A2.0%3Aoob&scope=email%20https%3A%2F%2Fwww.googleapis.com%2Fauth%2Fdocs.test%20https%3A%2F%2Fwww.googleapis.com%2Fauth%2Fdrive%20https%3A%2F%2Fwww.googleapis.com%2Fauth%2Fdrive.photos.readonly%20https%3A%2F%2Fwww.googleapis.com%2Fauth%2Fpeopleapi.readonly&response_type=code\n",
            "\n",
            "Enter your authorization code:\n",
            "··········\n",
            "Mounted at /content/gdrive\n"
          ],
          "name": "stdout"
        }
      ]
    },
    {
      "metadata": {
        "id": "GX4zB26uSSNd",
        "colab_type": "text"
      },
      "cell_type": "markdown",
      "source": [
        "<a id=\"settings\"></a>\n",
        "# 3. Settings \n",
        "\n",
        "Aqui vamos definir nossas variáveis. As constantes para São Carlos foram obtidas no trabalho do [Barbassa](www.google.com)\n",
        "\n",
        "`shift + enter ` para executar a célula"
      ]
    },
    {
      "metadata": {
        "id": "4YMCzcEpZyUJ",
        "colab_type": "code",
        "colab": {}
      },
      "cell_type": "code",
      "source": [
        "arquivo_vazao = 'gdrive/My Drive/src/puls/vazao.xlsx'"
      ],
      "execution_count": 0,
      "outputs": []
    },
    {
      "metadata": {
        "id": "9t67kmLZP-kD",
        "colab_type": "code",
        "outputId": "361a9a76-4004-433f-fa7c-5cd8d9d7d222",
        "colab": {
          "base_uri": "https://localhost:8080/",
          "height": 34
        }
      },
      "cell_type": "code",
      "source": [
        "# constantes para são carlos\n",
        "k = 25.33 # p/min\n",
        "m = 0.236\n",
        "T0 = 16\n",
        "n = 0.935\n",
        "k = k * 60 #p/ passar por hora. Ps. O valor de k novo vai ser multiplicado pelo valor de k antigo. Se for na mesma célula ok, se for em célula diferente vai ficar atualizando infinito\n",
        "print('valor de k:', k) #entre aspas ele da o texto literal que está escrito entre as aspas\n",
        "tc = 5 #min\n",
        "\n",
        "# tem que por pra rodar todo mundo"
      ],
      "execution_count": 0,
      "outputs": [
        {
          "output_type": "stream",
          "text": [
            "valor de k: 1519.8\n"
          ],
          "name": "stdout"
        }
      ]
    },
    {
      "metadata": {
        "id": "YPCOCGi6ScCh",
        "colab_type": "code",
        "outputId": "6bac8615-86be-4882-fd1a-9b0f15ec2940",
        "colab": {
          "base_uri": "https://localhost:8080/",
          "height": 51
        }
      },
      "cell_type": "code",
      "source": [
        "TR = 5\n",
        "d = 30 #min\n",
        "i = k * (TR**m) / ((d+T0)**n) #mm/h     elevado é **\n",
        "P = i * d/60 #mm\n",
        "print('valor de i:', i)\n",
        "print('valor de P', P)"
      ],
      "execution_count": 0,
      "outputs": [
        {
          "output_type": "stream",
          "text": [
            "valor de i: 61.95334909375189\n",
            "valor de P 30.976674546875945\n"
          ],
          "name": "stdout"
        }
      ]
    },
    {
      "metadata": {
        "id": "hmmo-VhCQtS5",
        "colab_type": "code",
        "outputId": "cac7ea92-24a1-42c2-f69f-7fd9edb6f954",
        "colab": {
          "base_uri": "https://localhost:8080/",
          "height": 34
        }
      },
      "cell_type": "code",
      "source": [
        "Abase = 6 #m2\n",
        "C = 0.95 \n",
        "A = 94 #m2\n",
        "Qmax = C*i*A/(1000*3600) #m3/s\n",
        "print('valor de Qmax', Qmax)"
      ],
      "execution_count": 0,
      "outputs": [
        {
          "output_type": "stream",
          "text": [
            "valor de Qmax 0.0015367872427977899\n"
          ],
          "name": "stdout"
        }
      ]
    },
    {
      "metadata": {
        "id": "YC2jgm84UYbu",
        "colab_type": "text"
      },
      "cell_type": "markdown",
      "source": [
        "Tem um jeito mais elegante para renomear as colunas:\n",
        "Ao invés de:\n",
        "\n",
        "\n",
        "```\n",
        "df = df.rename(columns={'t (min)': 't', 'Q (m³/s)': 'Q' })\n",
        "```\n",
        "\n",
        "\n",
        "Pode ser:\n",
        "```\n",
        "df.columns = ['t', 'Q']\n",
        "```\n",
        "\n",
        "No jeito 1, podemos renomear somente as colunas que quisermos e na ordem que quisermos. Do jeito 2, é preciso colocar o nome de todas as colunas e na ordem correta, mesmo se elas não forem renomeadas. Em tabelas com muitas colunas, o jeito 1 é mais indicado."
      ]
    },
    {
      "metadata": {
        "id": "b9dO_Kp3Vx_w",
        "colab_type": "code",
        "outputId": "a6facfef-71da-4ebe-f6c8-eeec35c8cde9",
        "colab": {
          "base_uri": "https://localhost:8080/",
          "height": 142
        }
      },
      "cell_type": "code",
      "source": [
        "import pandas as pd #pandas é uma biblioteca de matriz/data frames\n",
        "#pd.read_excel(arquivo_vazao) #aqui apenas leu o arquivo de vazão\n",
        "df = pd.read_excel(arquivo_vazao)\n",
        "df = df.rename(columns={'t (min)': 't', 'Q (m³/s)': 'Q' })\n",
        "df.head(3) #mostra só as primeiras n linhas dentro dos parentes"
      ],
      "execution_count": 0,
      "outputs": [
        {
          "output_type": "execute_result",
          "data": {
            "text/html": [
              "<div>\n",
              "<style scoped>\n",
              "    .dataframe tbody tr th:only-of-type {\n",
              "        vertical-align: middle;\n",
              "    }\n",
              "\n",
              "    .dataframe tbody tr th {\n",
              "        vertical-align: top;\n",
              "    }\n",
              "\n",
              "    .dataframe thead th {\n",
              "        text-align: right;\n",
              "    }\n",
              "</style>\n",
              "<table border=\"1\" class=\"dataframe\">\n",
              "  <thead>\n",
              "    <tr style=\"text-align: right;\">\n",
              "      <th></th>\n",
              "      <th>t</th>\n",
              "      <th>Q</th>\n",
              "    </tr>\n",
              "  </thead>\n",
              "  <tbody>\n",
              "    <tr>\n",
              "      <th>0</th>\n",
              "      <td>0</td>\n",
              "      <td>0.000</td>\n",
              "    </tr>\n",
              "    <tr>\n",
              "      <th>1</th>\n",
              "      <td>5</td>\n",
              "      <td>0.015</td>\n",
              "    </tr>\n",
              "    <tr>\n",
              "      <th>2</th>\n",
              "      <td>10</td>\n",
              "      <td>0.015</td>\n",
              "    </tr>\n",
              "  </tbody>\n",
              "</table>\n",
              "</div>"
            ],
            "text/plain": [
              "    t      Q\n",
              "0   0  0.000\n",
              "1   5  0.015\n",
              "2  10  0.015"
            ]
          },
          "metadata": {
            "tags": []
          },
          "execution_count": 61
        }
      ]
    },
    {
      "metadata": {
        "id": "VRvIYb8Cb8rk",
        "colab_type": "code",
        "outputId": "9cc0a105-3e35-4020-f382-c51d45d9fda1",
        "colab": {
          "base_uri": "https://localhost:8080/",
          "height": 378
        }
      },
      "cell_type": "code",
      "source": [
        "import matplotlib.pyplot as plt\n",
        "ax = plt.gca() #get current axis, sempre tem que por isso\n",
        "df.plot(kind='line', x='t', y = 'Q', ax=ax) #plotar gráfico de df, do tipo linha, que x é tals e y é tals\n"
      ],
      "execution_count": 0,
      "outputs": [
        {
          "output_type": "execute_result",
          "data": {
            "text/plain": [
              "<matplotlib.axes._subplots.AxesSubplot at 0x7fcf56ae6160>"
            ]
          },
          "metadata": {
            "tags": []
          },
          "execution_count": 62
        },
        {
          "output_type": "display_data",
          "data": {
            "image/png": "[encoded data removed]",
            "text/plain": [
              "<Figure size 576x396 with 1 Axes>"
            ]
          },
          "metadata": {
            "tags": []
          }
        }
      ]
    },
    {
      "metadata": {
        "id": "a01wg1Mqd85Q",
        "colab_type": "code",
        "outputId": "17fca079-18de-4b6d-9db0-4ef9c78ea3fe",
        "colab": {
          "base_uri": "https://localhost:8080/",
          "height": 204
        }
      },
      "cell_type": "code",
      "source": [
        "df['vol'] = df['t'] * df['Q']*60\n",
        "df.head()"
      ],
      "execution_count": 0,
      "outputs": [
        {
          "output_type": "execute_result",
          "data": {
            "text/html": [
              "<div>\n",
              "<style scoped>\n",
              "    .dataframe tbody tr th:only-of-type {\n",
              "        vertical-align: middle;\n",
              "    }\n",
              "\n",
              "    .dataframe tbody tr th {\n",
              "        vertical-align: top;\n",
              "    }\n",
              "\n",
              "    .dataframe thead th {\n",
              "        text-align: right;\n",
              "    }\n",
              "</style>\n",
              "<table border=\"1\" class=\"dataframe\">\n",
              "  <thead>\n",
              "    <tr style=\"text-align: right;\">\n",
              "      <th></th>\n",
              "      <th>t</th>\n",
              "      <th>Q</th>\n",
              "      <th>vol</th>\n",
              "    </tr>\n",
              "  </thead>\n",
              "  <tbody>\n",
              "    <tr>\n",
              "      <th>0</th>\n",
              "      <td>0</td>\n",
              "      <td>0.000</td>\n",
              "      <td>0.0</td>\n",
              "    </tr>\n",
              "    <tr>\n",
              "      <th>1</th>\n",
              "      <td>5</td>\n",
              "      <td>0.015</td>\n",
              "      <td>4.5</td>\n",
              "    </tr>\n",
              "    <tr>\n",
              "      <th>2</th>\n",
              "      <td>10</td>\n",
              "      <td>0.015</td>\n",
              "      <td>9.0</td>\n",
              "    </tr>\n",
              "    <tr>\n",
              "      <th>3</th>\n",
              "      <td>15</td>\n",
              "      <td>0.015</td>\n",
              "      <td>13.5</td>\n",
              "    </tr>\n",
              "    <tr>\n",
              "      <th>4</th>\n",
              "      <td>20</td>\n",
              "      <td>0.015</td>\n",
              "      <td>18.0</td>\n",
              "    </tr>\n",
              "  </tbody>\n",
              "</table>\n",
              "</div>"
            ],
            "text/plain": [
              "    t      Q   vol\n",
              "0   0  0.000   0.0\n",
              "1   5  0.015   4.5\n",
              "2  10  0.015   9.0\n",
              "3  15  0.015  13.5\n",
              "4  20  0.015  18.0"
            ]
          },
          "metadata": {
            "tags": []
          },
          "execution_count": 63
        }
      ]
    },
    {
      "metadata": {
        "id": "Zsm_h07EI4q-",
        "colab_type": "code",
        "colab": {}
      },
      "cell_type": "code",
      "source": [
        "import numpy as np #biblioteca de vetor"
      ],
      "execution_count": 0,
      "outputs": []
    },
    {
      "metadata": {
        "id": "QJyzBuaGI450",
        "colab_type": "code",
        "outputId": "1a80be60-0b11-4bc0-b546-8f6ab766c01d",
        "colab": {
          "base_uri": "https://localhost:8080/",
          "height": 142
        }
      },
      "cell_type": "code",
      "source": [
        "t_ini = 0\n",
        "n = d + tc + 1\n",
        "deltat = 1\n",
        "t = np.arange(t_ini,n,deltat)\n",
        "Hidr = pd.DataFrame({'t': t})\n",
        "Hidr.head(3)  # narumi: aqui vc pode usar Hidr.head() ou Hidr.tail()  tail mostra os n ultimos"
      ],
      "execution_count": 0,
      "outputs": [
        {
          "output_type": "execute_result",
          "data": {
            "text/html": [
              "<div>\n",
              "<style scoped>\n",
              "    .dataframe tbody tr th:only-of-type {\n",
              "        vertical-align: middle;\n",
              "    }\n",
              "\n",
              "    .dataframe tbody tr th {\n",
              "        vertical-align: top;\n",
              "    }\n",
              "\n",
              "    .dataframe thead th {\n",
              "        text-align: right;\n",
              "    }\n",
              "</style>\n",
              "<table border=\"1\" class=\"dataframe\">\n",
              "  <thead>\n",
              "    <tr style=\"text-align: right;\">\n",
              "      <th></th>\n",
              "      <th>t</th>\n",
              "    </tr>\n",
              "  </thead>\n",
              "  <tbody>\n",
              "    <tr>\n",
              "      <th>0</th>\n",
              "      <td>0</td>\n",
              "    </tr>\n",
              "    <tr>\n",
              "      <th>1</th>\n",
              "      <td>1</td>\n",
              "    </tr>\n",
              "    <tr>\n",
              "      <th>2</th>\n",
              "      <td>2</td>\n",
              "    </tr>\n",
              "  </tbody>\n",
              "</table>\n",
              "</div>"
            ],
            "text/plain": [
              "   t\n",
              "0  0\n",
              "1  1\n",
              "2  2"
            ]
          },
          "metadata": {
            "tags": []
          },
          "execution_count": 65
        }
      ]
    },
    {
      "metadata": {
        "id": "sD0rr17eTYe3",
        "colab_type": "code",
        "outputId": "8142b4da-368f-4e07-aa45-08ddc8d54837",
        "colab": {
          "base_uri": "https://localhost:8080/",
          "height": 142
        }
      },
      "cell_type": "code",
      "source": [
        "m = Qmax/tc\n",
        "Hidr.loc[Hidr['t'] < d, 'q1'] = Qmax + m * Hidr['t'] - m*tc #localiza os números que atendem a condição colocada na coluna 't', colocando em uma nova coluna q1, retornando o valor que está depois do =\n",
        "Hidr.loc[Hidr['t'] > d, 'q1'] = Qmax - m * Hidr['t'] + m*d\n",
        "Hidr.loc[(Hidr['t'] >= tc) & (Hidr['t'] <= d), 'q1'] = Qmax\n",
        "Hidr.head(3)"
      ],
      "execution_count": 0,
      "outputs": [
        {
          "output_type": "execute_result",
          "data": {
            "text/html": [
              "<div>\n",
              "<style scoped>\n",
              "    .dataframe tbody tr th:only-of-type {\n",
              "        vertical-align: middle;\n",
              "    }\n",
              "\n",
              "    .dataframe tbody tr th {\n",
              "        vertical-align: top;\n",
              "    }\n",
              "\n",
              "    .dataframe thead th {\n",
              "        text-align: right;\n",
              "    }\n",
              "</style>\n",
              "<table border=\"1\" class=\"dataframe\">\n",
              "  <thead>\n",
              "    <tr style=\"text-align: right;\">\n",
              "      <th></th>\n",
              "      <th>t</th>\n",
              "      <th>q1</th>\n",
              "    </tr>\n",
              "  </thead>\n",
              "  <tbody>\n",
              "    <tr>\n",
              "      <th>0</th>\n",
              "      <td>0</td>\n",
              "      <td>2.168404e-19</td>\n",
              "    </tr>\n",
              "    <tr>\n",
              "      <th>1</th>\n",
              "      <td>1</td>\n",
              "      <td>3.073574e-04</td>\n",
              "    </tr>\n",
              "    <tr>\n",
              "      <th>2</th>\n",
              "      <td>2</td>\n",
              "      <td>6.147149e-04</td>\n",
              "    </tr>\n",
              "  </tbody>\n",
              "</table>\n",
              "</div>"
            ],
            "text/plain": [
              "   t            q1\n",
              "0  0  2.168404e-19\n",
              "1  1  3.073574e-04\n",
              "2  2  6.147149e-04"
            ]
          },
          "metadata": {
            "tags": []
          },
          "execution_count": 66
        }
      ]
    },
    {
      "metadata": {
        "id": "GyF30yFITYbv",
        "colab_type": "code",
        "outputId": "aa672cd3-eb6a-4eeb-e509-c4b53bcc9059",
        "colab": {
          "base_uri": "https://localhost:8080/",
          "height": 379
        }
      },
      "cell_type": "code",
      "source": [
        "ax = plt.gca() #get current axis, sempre tem que por isso\n",
        "Hidr.plot(kind='line', x='t', y = 'q1', ax=ax) #plotar gráfico de df, do tipo linha, que x é tals e y é tals"
      ],
      "execution_count": 0,
      "outputs": [
        {
          "output_type": "execute_result",
          "data": {
            "text/plain": [
              "<matplotlib.axes._subplots.AxesSubplot at 0x7fcf569a0c50>"
            ]
          },
          "metadata": {
            "tags": []
          },
          "execution_count": 67
        },
        {
          "output_type": "display_data",
          "data": {
            "image/png": "[encoded data removed]",
            "text/plain": [
              "<Figure size 576x396 with 1 Axes>"
            ]
          },
          "metadata": {
            "tags": []
          }
        }
      ]
    },
    {
      "metadata": {
        "id": "14_80k-FeRH0",
        "colab_type": "text"
      },
      "cell_type": "markdown",
      "source": [
        "\n",
        " $f(h)=k A_{base} \\frac { (\\psi + L + h)}{L}$\n",
        "  \n",
        "$ Q_v(h)=\n",
        "    \\begin{cases}\n",
        "      1.4  (h - P)^{2.5}, & \\text{if}\\ h > P \\\\\n",
        "      0, & \\text{otherwise}\n",
        "    \\end{cases}\n",
        " $\n",
        " \n",
        " $S(h) = A_{base} h $\n"
      ]
    },
    {
      "metadata": {
        "id": "6k1M80jUeXXb",
        "colab_type": "code",
        "colab": {}
      },
      "cell_type": "code",
      "source": [
        "psi = 0.049\n",
        "L = 2 #2 para solo saturado (m)\n",
        "k = 8.e-4 #(m/s)\n",
        "P = 0.6 #(m)\n",
        "dt = 60 #(s) ou 1min"
      ],
      "execution_count": 0,
      "outputs": []
    },
    {
      "metadata": {
        "id": "93NglidVTXjB",
        "colab_type": "code",
        "outputId": "bf1b8604-b91b-4f9d-d8bd-b4e463e468ee",
        "colab": {
          "base_uri": "https://localhost:8080/",
          "height": 111
        }
      },
      "cell_type": "code",
      "source": [
        "n_0 = 0\n",
        "nf = 1.001\n",
        "deltah = 0.001\n",
        "h = np.arange(n_0, nf, deltah) #h (m)\n",
        "aux = pd.DataFrame({'h': h})\n",
        "aux.tail(2)  # narumi: aqui vc pode usar Hidr.head() ou Hidr.tail()  tail mostra os n ultimos"
      ],
      "execution_count": 0,
      "outputs": [
        {
          "output_type": "execute_result",
          "data": {
            "text/html": [
              "<div>\n",
              "<style scoped>\n",
              "    .dataframe tbody tr th:only-of-type {\n",
              "        vertical-align: middle;\n",
              "    }\n",
              "\n",
              "    .dataframe tbody tr th {\n",
              "        vertical-align: top;\n",
              "    }\n",
              "\n",
              "    .dataframe thead th {\n",
              "        text-align: right;\n",
              "    }\n",
              "</style>\n",
              "<table border=\"1\" class=\"dataframe\">\n",
              "  <thead>\n",
              "    <tr style=\"text-align: right;\">\n",
              "      <th></th>\n",
              "      <th>h</th>\n",
              "    </tr>\n",
              "  </thead>\n",
              "  <tbody>\n",
              "    <tr>\n",
              "      <th>999</th>\n",
              "      <td>0.999</td>\n",
              "    </tr>\n",
              "    <tr>\n",
              "      <th>1000</th>\n",
              "      <td>1.000</td>\n",
              "    </tr>\n",
              "  </tbody>\n",
              "</table>\n",
              "</div>"
            ],
            "text/plain": [
              "          h\n",
              "999   0.999\n",
              "1000  1.000"
            ]
          },
          "metadata": {
            "tags": []
          },
          "execution_count": 69
        }
      ]
    },
    {
      "metadata": {
        "id": "x1MFT4widNZu",
        "colab_type": "code",
        "outputId": "db017d99-3b7d-4d7f-b679-5dcba14a0c10",
        "colab": {
          "base_uri": "https://localhost:8080/",
          "height": 142
        }
      },
      "cell_type": "code",
      "source": [
        "aux['S(h)'] = Abase * aux['h']\n",
        "aux['f(h)'] = (k * Abase * (psi + L + aux['h']))/L\n",
        "aux.loc[aux['h'] > P, 'Qv(h)'] = 1.4 * (aux['h']-P)**(2.5)\n",
        "aux.loc[aux['h'] <= P, 'Qv(h)'] = 0\n",
        "aux['O(h)'] = aux['f(h)'] + aux['Qv(h)']\n",
        "aux['A'] = aux['S(h)'] + 0.5*aux['O(h)']*dt\n",
        "aux.head(3)"
      ],
      "execution_count": 0,
      "outputs": [
        {
          "output_type": "execute_result",
          "data": {
            "text/html": [
              "<div>\n",
              "<style scoped>\n",
              "    .dataframe tbody tr th:only-of-type {\n",
              "        vertical-align: middle;\n",
              "    }\n",
              "\n",
              "    .dataframe tbody tr th {\n",
              "        vertical-align: top;\n",
              "    }\n",
              "\n",
              "    .dataframe thead th {\n",
              "        text-align: right;\n",
              "    }\n",
              "</style>\n",
              "<table border=\"1\" class=\"dataframe\">\n",
              "  <thead>\n",
              "    <tr style=\"text-align: right;\">\n",
              "      <th></th>\n",
              "      <th>h</th>\n",
              "      <th>S(h)</th>\n",
              "      <th>f(h)</th>\n",
              "      <th>Qv(h)</th>\n",
              "      <th>O(h)</th>\n",
              "      <th>A</th>\n",
              "    </tr>\n",
              "  </thead>\n",
              "  <tbody>\n",
              "    <tr>\n",
              "      <th>0</th>\n",
              "      <td>0.000</td>\n",
              "      <td>0.000</td>\n",
              "      <td>0.004918</td>\n",
              "      <td>0.0</td>\n",
              "      <td>0.004918</td>\n",
              "      <td>0.147528</td>\n",
              "    </tr>\n",
              "    <tr>\n",
              "      <th>1</th>\n",
              "      <td>0.001</td>\n",
              "      <td>0.006</td>\n",
              "      <td>0.004920</td>\n",
              "      <td>0.0</td>\n",
              "      <td>0.004920</td>\n",
              "      <td>0.153600</td>\n",
              "    </tr>\n",
              "    <tr>\n",
              "      <th>2</th>\n",
              "      <td>0.002</td>\n",
              "      <td>0.012</td>\n",
              "      <td>0.004922</td>\n",
              "      <td>0.0</td>\n",
              "      <td>0.004922</td>\n",
              "      <td>0.159672</td>\n",
              "    </tr>\n",
              "  </tbody>\n",
              "</table>\n",
              "</div>"
            ],
            "text/plain": [
              "       h   S(h)      f(h)  Qv(h)      O(h)         A\n",
              "0  0.000  0.000  0.004918    0.0  0.004918  0.147528\n",
              "1  0.001  0.006  0.004920    0.0  0.004920  0.153600\n",
              "2  0.002  0.012  0.004922    0.0  0.004922  0.159672"
            ]
          },
          "metadata": {
            "tags": []
          },
          "execution_count": 83
        }
      ]
    },
    {
      "metadata": {
        "id": "kiSJLDYtdNXN",
        "colab_type": "code",
        "outputId": "118c7aa0-270c-47f0-8535-e26e30f5f1d7",
        "colab": {
          "base_uri": "https://localhost:8080/",
          "height": 111
        }
      },
      "cell_type": "code",
      "source": [
        "t_0 = 0\n",
        "t_f = 121\n",
        "deltat = 1\n",
        "t = np.arange(t_0, t_f, deltat) #t (min)\n",
        "puls = pd.DataFrame({'t': t})\n",
        "\n",
        "puls.tail(2)"
      ],
      "execution_count": 0,
      "outputs": [
        {
          "output_type": "execute_result",
          "data": {
            "text/html": [
              "<div>\n",
              "<style scoped>\n",
              "    .dataframe tbody tr th:only-of-type {\n",
              "        vertical-align: middle;\n",
              "    }\n",
              "\n",
              "    .dataframe tbody tr th {\n",
              "        vertical-align: top;\n",
              "    }\n",
              "\n",
              "    .dataframe thead th {\n",
              "        text-align: right;\n",
              "    }\n",
              "</style>\n",
              "<table border=\"1\" class=\"dataframe\">\n",
              "  <thead>\n",
              "    <tr style=\"text-align: right;\">\n",
              "      <th></th>\n",
              "      <th>t</th>\n",
              "    </tr>\n",
              "  </thead>\n",
              "  <tbody>\n",
              "    <tr>\n",
              "      <th>119</th>\n",
              "      <td>119</td>\n",
              "    </tr>\n",
              "    <tr>\n",
              "      <th>120</th>\n",
              "      <td>120</td>\n",
              "    </tr>\n",
              "  </tbody>\n",
              "</table>\n",
              "</div>"
            ],
            "text/plain": [
              "       t\n",
              "119  119\n",
              "120  120"
            ]
          },
          "metadata": {
            "tags": []
          },
          "execution_count": 105
        }
      ]
    },
    {
      "metadata": {
        "id": "BQTzLQkldNI2",
        "colab_type": "code",
        "outputId": "d2d9067f-fa2e-41d3-cc28-6118fa57d0b4",
        "colab": {
          "base_uri": "https://localhost:8080/",
          "height": 204
        }
      },
      "cell_type": "code",
      "source": [
        "puls['I(t)']=Hidr['q1']\n",
        "puls = puls.fillna(0)\n",
        "puls['h(t)'] = 0\n",
        "puls['S(t)'] = 0\n",
        "puls['f(t)'] = 0\n",
        "puls['Qv(t)'] = 0\n",
        "puls['O(t)'] = 0\n",
        "puls.head()"
      ],
      "execution_count": 0,
      "outputs": [
        {
          "output_type": "execute_result",
          "data": {
            "text/html": [
              "<div>\n",
              "<style scoped>\n",
              "    .dataframe tbody tr th:only-of-type {\n",
              "        vertical-align: middle;\n",
              "    }\n",
              "\n",
              "    .dataframe tbody tr th {\n",
              "        vertical-align: top;\n",
              "    }\n",
              "\n",
              "    .dataframe thead th {\n",
              "        text-align: right;\n",
              "    }\n",
              "</style>\n",
              "<table border=\"1\" class=\"dataframe\">\n",
              "  <thead>\n",
              "    <tr style=\"text-align: right;\">\n",
              "      <th></th>\n",
              "      <th>t</th>\n",
              "      <th>I(t)</th>\n",
              "      <th>h(t)</th>\n",
              "      <th>S(t)</th>\n",
              "      <th>f(t)</th>\n",
              "      <th>Qv(t)</th>\n",
              "      <th>O(t)</th>\n",
              "    </tr>\n",
              "  </thead>\n",
              "  <tbody>\n",
              "    <tr>\n",
              "      <th>0</th>\n",
              "      <td>0</td>\n",
              "      <td>2.168404e-19</td>\n",
              "      <td>0</td>\n",
              "      <td>0</td>\n",
              "      <td>0</td>\n",
              "      <td>0</td>\n",
              "      <td>0</td>\n",
              "    </tr>\n",
              "    <tr>\n",
              "      <th>1</th>\n",
              "      <td>1</td>\n",
              "      <td>3.073574e-04</td>\n",
              "      <td>0</td>\n",
              "      <td>0</td>\n",
              "      <td>0</td>\n",
              "      <td>0</td>\n",
              "      <td>0</td>\n",
              "    </tr>\n",
              "    <tr>\n",
              "      <th>2</th>\n",
              "      <td>2</td>\n",
              "      <td>6.147149e-04</td>\n",
              "      <td>0</td>\n",
              "      <td>0</td>\n",
              "      <td>0</td>\n",
              "      <td>0</td>\n",
              "      <td>0</td>\n",
              "    </tr>\n",
              "    <tr>\n",
              "      <th>3</th>\n",
              "      <td>3</td>\n",
              "      <td>9.220723e-04</td>\n",
              "      <td>0</td>\n",
              "      <td>0</td>\n",
              "      <td>0</td>\n",
              "      <td>0</td>\n",
              "      <td>0</td>\n",
              "    </tr>\n",
              "    <tr>\n",
              "      <th>4</th>\n",
              "      <td>4</td>\n",
              "      <td>1.229430e-03</td>\n",
              "      <td>0</td>\n",
              "      <td>0</td>\n",
              "      <td>0</td>\n",
              "      <td>0</td>\n",
              "      <td>0</td>\n",
              "    </tr>\n",
              "  </tbody>\n",
              "</table>\n",
              "</div>"
            ],
            "text/plain": [
              "   t          I(t)  h(t)  S(t)  f(t)  Qv(t)  O(t)\n",
              "0  0  2.168404e-19     0     0     0      0     0\n",
              "1  1  3.073574e-04     0     0     0      0     0\n",
              "2  2  6.147149e-04     0     0     0      0     0\n",
              "3  3  9.220723e-04     0     0     0      0     0\n",
              "4  4  1.229430e-03     0     0     0      0     0"
            ]
          },
          "metadata": {
            "tags": []
          },
          "execution_count": 108
        }
      ]
    },
    {
      "metadata": {
        "id": "tnHSR1r50g7C",
        "colab_type": "code",
        "colab": {}
      },
      "cell_type": "code",
      "source": [
        ""
      ],
      "execution_count": 0,
      "outputs": []
    },
    {
      "metadata": {
        "id": "APqAGuHJ0gsc",
        "colab_type": "code",
        "colab": {}
      },
      "cell_type": "code",
      "source": [
        ""
      ],
      "execution_count": 0,
      "outputs": []
    },
    {
      "metadata": {
        "id": "kTlpxdVvXZff",
        "colab_type": "text"
      },
      "cell_type": "markdown",
      "source": [
        "#Sandbox\n"
      ]
    },
    {
      "metadata": {
        "id": "lmB7CFLnXdmG",
        "colab_type": "code",
        "outputId": "468e376f-b1ea-448e-efa8-8c98d5e14511",
        "colab": {
          "base_uri": "https://localhost:8080/",
          "height": 34
        }
      },
      "cell_type": "code",
      "source": [
        "!ls #mostra as pastas"
      ],
      "execution_count": 0,
      "outputs": [
        {
          "output_type": "stream",
          "text": [
            "gdrive\tsample_data\n"
          ],
          "name": "stdout"
        }
      ]
    },
    {
      "metadata": {
        "id": "PTFqj_9MXjcB",
        "colab_type": "code",
        "outputId": "32190d16-b6a1-452f-a6ce-a074dcc25c40",
        "colab": {
          "base_uri": "https://localhost:8080/",
          "height": 34
        }
      },
      "cell_type": "code",
      "source": [
        "!ls gdrive"
      ],
      "execution_count": 0,
      "outputs": [
        {
          "output_type": "stream",
          "text": [
            "'My Drive'  'Team Drives'\n"
          ],
          "name": "stdout"
        }
      ]
    },
    {
      "metadata": {
        "id": "s7GxalU8XrVU",
        "colab_type": "code",
        "outputId": "284a7703-fdf9-4f84-8633-e5d85ee29142",
        "colab": {
          "base_uri": "https://localhost:8080/",
          "height": 34
        }
      },
      "cell_type": "code",
      "source": [
        "!ls gdrive/'My Drive'/src/puls # quando tem espaço tem que por entre aspas"
      ],
      "execution_count": 0,
      "outputs": [
        {
          "output_type": "stream",
          "text": [
            "puls\n"
          ],
          "name": "stdout"
        }
      ]
    },
    {
      "metadata": {
        "id": "V7qme0-MYB4E",
        "colab_type": "code",
        "colab": {}
      },
      "cell_type": "code",
      "source": [
        "import numpy as np #biblioteca de vetor"
      ],
      "execution_count": 0,
      "outputs": []
    },
    {
      "metadata": {
        "id": "akaODbPZfUh6",
        "colab_type": "code",
        "colab": {}
      },
      "cell_type": "code",
      "source": [
        "t_ini = 0\n",
        "n = d + tc + 1\n",
        "deltat = 1\n",
        "t = np.arange(t_ini,n,deltat) #cria um intervalo com n - 1 numeros. O primeiro número é onde começa, o segundo é onde termina e o terceiro é o espaçamento"
      ],
      "execution_count": 0,
      "outputs": []
    },
    {
      "metadata": {
        "id": "vhYVE2lifqb0",
        "colab_type": "code",
        "colab": {}
      },
      "cell_type": "code",
      "source": [
        "lala = pd.DataFrame({'t': t})"
      ],
      "execution_count": 0,
      "outputs": []
    },
    {
      "metadata": {
        "id": "HnF4PB70gq1U",
        "colab_type": "code",
        "colab": {}
      },
      "cell_type": "code",
      "source": [
        "lala['nova'] = lala['t']*2"
      ],
      "execution_count": 0,
      "outputs": []
    },
    {
      "metadata": {
        "id": "VWHrupr4hd_q",
        "colab_type": "code",
        "outputId": "ca05ff50-685c-46bf-f77b-f291c939fef8",
        "colab": {
          "base_uri": "https://localhost:8080/",
          "height": 297
        }
      },
      "cell_type": "code",
      "source": [
        "lala"
      ],
      "execution_count": 0,
      "outputs": [
        {
          "output_type": "execute_result",
          "data": {
            "text/html": [
              "<div>\n",
              "<style scoped>\n",
              "    .dataframe tbody tr th:only-of-type {\n",
              "        vertical-align: middle;\n",
              "    }\n",
              "\n",
              "    .dataframe tbody tr th {\n",
              "        vertical-align: top;\n",
              "    }\n",
              "\n",
              "    .dataframe thead th {\n",
              "        text-align: right;\n",
              "    }\n",
              "</style>\n",
              "<table border=\"1\" class=\"dataframe\">\n",
              "  <thead>\n",
              "    <tr style=\"text-align: right;\">\n",
              "      <th></th>\n",
              "      <th>t</th>\n",
              "      <th>nova</th>\n",
              "    </tr>\n",
              "  </thead>\n",
              "  <tbody>\n",
              "    <tr>\n",
              "      <th>0</th>\n",
              "      <td>0</td>\n",
              "      <td>0</td>\n",
              "    </tr>\n",
              "    <tr>\n",
              "      <th>1</th>\n",
              "      <td>5</td>\n",
              "      <td>10</td>\n",
              "    </tr>\n",
              "    <tr>\n",
              "      <th>2</th>\n",
              "      <td>10</td>\n",
              "      <td>20</td>\n",
              "    </tr>\n",
              "    <tr>\n",
              "      <th>3</th>\n",
              "      <td>15</td>\n",
              "      <td>30</td>\n",
              "    </tr>\n",
              "    <tr>\n",
              "      <th>4</th>\n",
              "      <td>20</td>\n",
              "      <td>40</td>\n",
              "    </tr>\n",
              "    <tr>\n",
              "      <th>5</th>\n",
              "      <td>25</td>\n",
              "      <td>50</td>\n",
              "    </tr>\n",
              "    <tr>\n",
              "      <th>6</th>\n",
              "      <td>30</td>\n",
              "      <td>60</td>\n",
              "    </tr>\n",
              "    <tr>\n",
              "      <th>7</th>\n",
              "      <td>35</td>\n",
              "      <td>70</td>\n",
              "    </tr>\n",
              "  </tbody>\n",
              "</table>\n",
              "</div>"
            ],
            "text/plain": [
              "    t  nova\n",
              "0   0     0\n",
              "1   5    10\n",
              "2  10    20\n",
              "3  15    30\n",
              "4  20    40\n",
              "5  25    50\n",
              "6  30    60\n",
              "7  35    70"
            ]
          },
          "metadata": {
            "tags": []
          },
          "execution_count": 38
        }
      ]
    },
    {
      "metadata": {
        "id": "w3A-FcGMher1",
        "colab_type": "code",
        "outputId": "1675c58b-a449-42d4-c44f-636b52a37f89",
        "colab": {
          "base_uri": "https://localhost:8080/",
          "height": 34
        }
      },
      "cell_type": "code",
      "source": [
        "lala['t'][1]"
      ],
      "execution_count": 0,
      "outputs": [
        {
          "output_type": "execute_result",
          "data": {
            "text/plain": [
              "5"
            ]
          },
          "metadata": {
            "tags": []
          },
          "execution_count": 39
        }
      ]
    },
    {
      "metadata": {
        "id": "RqWUpIw8h_Px",
        "colab_type": "code",
        "outputId": "29c8e82e-7857-4228-b7da-c45206b14da8",
        "colab": {
          "base_uri": "https://localhost:8080/",
          "height": 85
        }
      },
      "cell_type": "code",
      "source": [
        "lala['t'][2:5]"
      ],
      "execution_count": 0,
      "outputs": [
        {
          "output_type": "execute_result",
          "data": {
            "text/plain": [
              "2    10\n",
              "3    15\n",
              "4    20\n",
              "Name: t, dtype: int64"
            ]
          },
          "metadata": {
            "tags": []
          },
          "execution_count": 40
        }
      ]
    },
    {
      "metadata": {
        "id": "raMOlYUjiGYX",
        "colab_type": "code",
        "colab": {}
      },
      "cell_type": "code",
      "source": [
        ""
      ],
      "execution_count": 0,
      "outputs": []
    }
  ]
}